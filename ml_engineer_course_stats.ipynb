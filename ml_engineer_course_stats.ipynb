{
  "nbformat": 4,
  "nbformat_minor": 0,
  "metadata": {
    "colab": {
      "provenance": [],
      "authorship_tag": "ABX9TyMUF6+NJOSDROBVYyQY7ZDM",
      "include_colab_link": true
    },
    "kernelspec": {
      "name": "python3",
      "display_name": "Python 3"
    },
    "language_info": {
      "name": "python"
    }
  },
  "cells": [
    {
      "cell_type": "markdown",
      "metadata": {
        "id": "view-in-github",
        "colab_type": "text"
      },
      "source": [
        "<a href=\"https://colab.research.google.com/github/mankind/jupyter-notebooks/blob/master/ml_engineer_course_stats.ipynb\" target=\"_parent\"><img src=\"https://colab.research.google.com/assets/colab-badge.svg\" alt=\"Open In Colab\"/></a>"
      ]
    },
    {
      "cell_type": "code",
      "execution_count": null,
      "metadata": {
        "colab": {
          "base_uri": "https://localhost:8080/"
        },
        "id": "iVxfpAATkt91",
        "outputId": "979d269e-b2d9-48fb-95d6-b04ea6ae5570"
      },
      "outputs": [
        {
          "output_type": "stream",
          "name": "stdout",
          "text": [
            "(3, 2)\n",
            "  \n",
            "print head\n",
            "    name  salary\n",
            "0  janes    2000\n",
            "1   mike    5000\n",
            "2   rosy    7000\n",
            "   \n",
            "##### descriptive statistics ######\n",
            "   \n",
            "mean of slalary by picking that column\n",
            "4666.666666666667\n",
            "  \n",
            "# median\n",
            "5000.0\n",
            "  \n",
            "mode\n",
            "0    2000\n",
            "1    5000\n",
            "2    7000\n",
            "dtype: int64\n",
            " \n",
            "minimum salary\n",
            "2000\n",
            "maximum salary\n",
            "7000\n",
            "  \n",
            "range\n",
            "5000\n",
            " \n",
            "## use pandas describe() function\n",
            "count       3.000000\n",
            "mean     4666.666667\n",
            "std      2516.611478\n",
            "min      2000.000000\n",
            "25%      3500.000000\n",
            "50%      5000.000000\n",
            "75%      6000.000000\n",
            "max      7000.000000\n",
            "Name: salary, dtype: float64\n",
            "#### note that describe is a dictionary so we can pull out count, std, min etc, below is std pulled out\n",
            "2516.6114784235833\n"
          ]
        }
      ],
      "source": [
        "# statistics\n",
        "import pandas as pd\n",
        "\n",
        "df = pd.DataFrame({'name': [\"janes\", \"mike\", \"rosy\"], 'salary': [2000, 5000, 7000]})\n",
        "\n",
        "print(df.shape)\n",
        "print(\"  \")\n",
        "print(\"print head\")\n",
        "print(df.head())\n",
        "\n",
        "print(\"   \")\n",
        "print(\"##### descriptive statistics ######\")\n",
        "print(\"   \")\n",
        "print(\"mean of slalary by picking that column\")\n",
        "print(df['salary'].mean())\n",
        "\n",
        "print(\"  \")\n",
        "print('# median')\n",
        "print(df['salary'].median())\n",
        "\n",
        "print(\"  \")\n",
        "print(\"mode\")\n",
        "print(df['salary'].mode())\n",
        "\n",
        "print(\" \")\n",
        "print(\"minimum salary\")\n",
        "print(df['salary'].min())\n",
        "print(\"maximum salary\")\n",
        "print(df['salary'].max())\n",
        "\n",
        "print(\"  \")\n",
        "print(\"range\")\n",
        "print(df['salary'].max() - df['salary'].min())\n",
        "\n",
        "print(\" \")\n",
        "print(\"## use pandas describe() function\")\n",
        "print(df['salary'].describe())\n",
        "print(\"#### note that describe is a dictionary so we can pull out count, std, min etc, below is std pulled out\")\n",
        "print(df['salary'].describe()['std'])"
      ]
    },
    {
      "cell_type": "code",
      "source": [
        "print(\"### graphing\")\n",
        "print(\"  \")\n",
        "\n",
        "print(\"### Histogram of salaries\")\n",
        "\n",
        "# the line below is only required by jupyter notebook\n",
        "%matplotlib inline\n",
        "import matplotlib.pyplot as plt\n",
        "\n",
        "salary = df['salary']\n",
        "salary.plot.hist(title=\"salary distribution\", color=\"grey\", bins=25)\n",
        "# axvline are up and down lines for your markers\n",
        "plt.axvline(salary.mean(), color=\"violet\", linestyle=\"dashed\", linewidth=2)\n",
        "plt.axvline(salary.median(), color=\"red\", linestyle=\"dashed\", linewidth=2)\n",
        "plt.show()\n"
      ],
      "metadata": {
        "colab": {
          "base_uri": "https://localhost:8080/",
          "height": 333
        },
        "id": "a2ajL5fuqJHb",
        "outputId": "136df86c-f852-431b-a0f9-2db8c2bfe876"
      },
      "execution_count": null,
      "outputs": [
        {
          "output_type": "stream",
          "name": "stdout",
          "text": [
            "### graphing\n",
            "  \n",
            "### Histogram of salaries\n"
          ]
        },
        {
          "output_type": "display_data",
          "data": {
            "text/plain": [
              "<Figure size 432x288 with 1 Axes>"
            ],
            "image/png": "[encoded data removed]"
          },
          "metadata": {
            "needs_background": "light"
          }
        }
      ]
    },
    {
      "cell_type": "code",
      "source": [
        "print(\"#### Inferential statistics  ########\")\n",
        "print(\"inferential statistics allows you to make prdictions or inferences from data\")\n",
        "\n",
        "print (\"  \")\n"
      ],
      "metadata": {
        "colab": {
          "base_uri": "https://localhost:8080/"
        },
        "id": "U_fC80fRsv2V",
        "outputId": "1a8e2e75-c3c5-4327-8c33-92075f9f8b61"
      },
      "execution_count": null,
      "outputs": [
        {
          "output_type": "stream",
          "name": "stdout",
          "text": [
            "#### Inferential statistics  ########\n",
            "inferential statistics allows you to make prdictions or inferences from data\n",
            "  \n"
          ]
        }
      ]
    },
    {
      "cell_type": "code",
      "source": [
        "# probablity at 1hr 56 min 41 secs mark\n",
        "\n",
        "# Create a set with curly braces & the keys must be uniq\n",
        "\n",
        "set1 = {4,7}  \n",
        "print(set1)\n",
        "print(type(set1))\n",
        "\n",
        "\n",
        "# cobert a list to a set\n",
        "my_list = [1, 2, 3,4,4]\n",
        "set_from_list = set(my_list)\n",
        "print(\"### set from list\")\n",
        "print(set_from_list)\n",
        "print(\"3 is in my set\", 3 in set_from_list)\n",
        "print(\"6 is not in my set\", 3 in set_from_list)\n",
        "\n",
        "\n",
        "print(\"  \")\n",
        "print(\"### dice rolling \")\n",
        "\n",
        "# delete list since it was cached\n",
        "#del list\n",
        "\n",
        "from itertools import product as prod\n",
        "\n",
        "# this range(1, 7) will return 1,2,3,4,5,6 only\n",
        "dice1 = set([x for x in range(1,7)])\n",
        "dice2 = set([x for x in range(1,7)])\n",
        "# creates a tuple of all possible outcomes\n",
        "p = list(prod(dice1,dice2))\n",
        "\n",
        "print(\"## product of dice1 & dice2\")\n",
        "print(\"dice1 is a set of all possible outcomes of dice 1\", dice1)\n",
        "print(\"dice2 is a set of all possible outcomes of dice 1\", dice2)\n",
        "print(\" the product of dice1 & dice 2 is a tuple of all possible outcomes\", p)\n",
        " \n",
        "print(\"  \")\n",
        "\n",
        "print(\" ### throwing a dice\")\n",
        "n_dice = 2\n",
        "#creatinf  set using {} lieral\n",
        "dice_face = {1,2,3,4,5,6,}\n",
        "event_space = set(prod(dice_face, repeat=n_dice))\n",
        "print(\"outcome in event space\")\n",
        "\n",
        "for outcome in event_space:\n",
        "  print(outcome, end=',')\n",
        "print(\"  \")\n",
        "print(\"### total number of event_space\")\n",
        "print(len(event_space))\n",
        "\n",
        "print(\"### Sum is a multiple of 3\")\n",
        "favourable_outcome = []\n",
        "\n",
        "for outcome in event_space:\n",
        "  # assign the tuple into x and x variables using destructuring\n",
        "  x,y =  outcome\n",
        "  if (x+y) % 3 == 0:\n",
        "    favourable_outcome.append(outcome)\n",
        "favouravle_outcome = set(favourable_outcome)\n",
        "print(set(favourable_outcome))\n",
        "\n",
        "print(\" ## probability of favourable_outcome\")\n",
        "prob = len(favourable_outcome)/ len(event_space)\n",
        "print(\"The probability of getting a sum which is a multiple of 3 is\", prob)"
      ],
      "metadata": {
        "id": "uvfUWT3nbimV",
        "colab": {
          "base_uri": "https://localhost:8080/"
        },
        "outputId": "e01aea80-98fe-4684-9bcd-70536b8d1b4c"
      },
      "execution_count": null,
      "outputs": [
        {
          "output_type": "stream",
          "name": "stdout",
          "text": [
            "{4, 7}\n",
            "<class 'set'>\n",
            "### set from list\n",
            "{1, 2, 3, 4}\n",
            "3 is in my set True\n",
            "6 is not in my set True\n",
            "  \n",
            "### dice rolling \n",
            "## product of dice1 & dice2\n",
            "dice1 is a set of all possible outcomes of dice 1 {1, 2, 3, 4, 5, 6}\n",
            "dice2 is a set of all possible outcomes of dice 1 {1, 2, 3, 4, 5, 6}\n",
            " the product of dice1 & dice 2 is a tuple of all possible outcomes [(1, 1), (1, 2), (1, 3), (1, 4), (1, 5), (1, 6), (2, 1), (2, 2), (2, 3), (2, 4), (2, 5), (2, 6), (3, 1), (3, 2), (3, 3), (3, 4), (3, 5), (3, 6), (4, 1), (4, 2), (4, 3), (4, 4), (4, 5), (4, 6), (5, 1), (5, 2), (5, 3), (5, 4), (5, 5), (5, 6), (6, 1), (6, 2), (6, 3), (6, 4), (6, 5), (6, 6)]\n",
            "  \n",
            " ### throwing a dice\n",
            "outcome in event space\n",
            "(1, 3),(6, 6),(5, 6),(2, 1),(6, 2),(1, 6),(5, 1),(2, 5),(1, 2),(3, 3),(5, 5),(4, 4),(6, 3),(1, 5),(3, 6),(2, 2),(4, 1),(1, 1),(6, 4),(3, 2),(2, 6),(5, 4),(4, 5),(5, 2),(1, 4),(2, 3),(4, 2),(6, 5),(3, 5),(5, 3),(4, 6),(6, 1),(3, 1),(4, 3),(3, 4),(2, 4),  \n",
            "### total number of event_space\n",
            "36\n",
            "### Sum is a multiple of 3\n",
            "{(1, 2), (5, 4), (3, 3), (6, 6), (4, 5), (2, 1), (6, 3), (1, 5), (3, 6), (4, 2), (5, 1), (2, 4)}\n",
            " ## probability of favourable_outcome\n",
            "The probability of getting a sum which is a multiple of 3 is 0.3333333333333333\n"
          ]
        }
      ]
    },
    {
      "cell_type": "code",
      "source": [
        "# Confusion matriz starts at 2 hr 18 mins 50 secs mark\n",
        " \n"
      ],
      "metadata": {
        "id": "4d4vvhKAHGTE"
      },
      "execution_count": null,
      "outputs": []
    }
  ]
}