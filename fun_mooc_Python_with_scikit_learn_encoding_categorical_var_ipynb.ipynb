{
  "nbformat": 4,
  "nbformat_minor": 0,
  "metadata": {
    "colab": {
      "provenance": [],
      "authorship_tag": "ABX9TyM8VcI3VZfNDQu3YugkFebr",
      "include_colab_link": true
    },
    "kernelspec": {
      "name": "python3",
      "display_name": "Python 3"
    },
    "language_info": {
      "name": "python"
    }
  },
  "cells": [
    {
      "cell_type": "markdown",
      "metadata": {
        "id": "view-in-github",
        "colab_type": "text"
      },
      "source": [
        "<a href=\"https://colab.research.google.com/github/mankind/jupyter-notebooks/blob/master/fun_mooc_Python_with_scikit_learn_encoding_categorical_var_ipynb.ipynb\" target=\"_parent\"><img src=\"https://colab.research.google.com/assets/colab-badge.svg\" alt=\"Open In Colab\"/></a>"
      ]
    },
    {
      "cell_type": "code",
      "execution_count": null,
      "metadata": {
        "id": "vIAXyL90VIWz",
        "colab": {
          "base_uri": "https://localhost:8080/"
        },
        "outputId": "12f01a1e-00da-4ce5-e3d5-27654f8b28f7"
      },
      "outputs": [
        {
          "output_type": "stream",
          "name": "stdout",
          "text": [
            " In this notebook, we will present typical ways of dealing with\n",
            "**categorical variables** by encoding them, namely **ordinal encoding** and\n",
            "**one-hot encoding**. \n",
            "   age   workclass      education       marital-status          occupation  \\\n",
            "0   25     Private           11th        Never-married   Machine-op-inspct   \n",
            "1   38     Private        HS-grad   Married-civ-spouse     Farming-fishing   \n",
            "2   28   Local-gov     Assoc-acdm   Married-civ-spouse     Protective-serv   \n",
            "3   44     Private   Some-college   Married-civ-spouse   Machine-op-inspct   \n",
            "4   18           ?   Some-college        Never-married                   ?   \n",
            "\n",
            "  relationship    race      sex  capital-gain  capital-loss  hours-per-week  \\\n",
            "0    Own-child   Black     Male             0             0              40   \n",
            "1      Husband   White     Male             0             0              50   \n",
            "2      Husband   White     Male             0             0              40   \n",
            "3      Husband   Black     Male          7688             0              40   \n",
            "4    Own-child   White   Female             0             0              30   \n",
            "\n",
            "   native-country  \n",
            "0   United-States  \n",
            "1   United-States  \n",
            "2   United-States  \n",
            "3   United-States  \n",
            "4   United-States  \n",
            "\n",
            "As we saw in the previous section, a numerical variable is a quantity represented by a real or integer number. \n",
            " \n",
            "These variables can be naturally handled by machine learning algorithms \n",
            "\n",
            "\n",
            "In contrast, categorical variables have discrete values, typically represented by string labels (but not only) taken from a finite list of possible choices.\n",
            "For instance, the variable native-country in our dataset is a categorical variable because it encodes the data using \n",
            "\n",
            "a finite list of possible countries (along with the ? symbol when this information is missing)\n",
            "\n",
            "\n",
            "  How can we easily recognize categorical columns among the dataset? Part of the answer lies in the columns' data type:\n",
            "\n",
            "age                int64\n",
            "workclass         object\n",
            "education         object\n",
            "marital-status    object\n",
            "occupation        object\n",
            "relationship      object\n",
            "race              object\n",
            "sex               object\n",
            "capital-gain       int64\n",
            "capital-loss       int64\n",
            "hours-per-week     int64\n",
            "native-country    object\n",
            "dtype: object\n",
            " \n",
            "If we look at the *native-country* column, we observe its data type is object, meaning it contains string values*\n"
          ]
        }
      ],
      "source": [
        "# Encoding of categorical variables\n",
        "\n",
        "print (\"\"\" In this notebook, we will present typical ways of dealing with\n",
        "**categorical variables** by encoding them, namely **ordinal encoding** and\n",
        "**one-hot encoding**. \"\"\")\n",
        "\n",
        "import pandas as pd\n",
        "\n",
        "url = \"https://raw.githubusercontent.com/mankind/scikit-learn-mooc/main/datasets/adult-census.csv\"\n",
        "adult_census = pd.read_csv(url)\n",
        "\n",
        "## drop the duplicated column `\"education-num\"` as stated in the first notebook\n",
        "## because it is highly correleated with education\n",
        "adult_census = adult_census.drop(columns=\"education-num\")\n",
        "\n",
        "target_name = \"class\"\n",
        "target = adult_census[target_name]\n",
        "\n",
        "data = adult_census.drop(columns=[target_name])\n",
        "print(data.head())\n",
        "## Identify categorical variables\n",
        "print(\"\"\"\n",
        "As we saw in the previous section, a numerical variable is a quantity represented by a real or integer number. \\n \n",
        "These variables can be naturally handled by machine learning algorithms \\n\n",
        "\n",
        "In contrast, categorical variables have discrete values, typically represented by string labels (but not only) taken from a finite list of possible choices.\n",
        "For instance, the variable native-country in our dataset is a categorical variable because it encodes the data using \\n\n",
        "a finite list of possible countries (along with the ? symbol when this information is missing)\n",
        "\"\"\")\n",
        "\n",
        "data[\"native-country\"].value_counts().sort_index()\n",
        "\n",
        "print(\"\"\"\n",
        "  How can we easily recognize categorical columns among the dataset? Part of the answer lies in the columns' data type:\n",
        "\"\"\")\n",
        "\n",
        "print(data.dtypes)\n",
        "\n",
        "print(\" \")\n",
        "print(\"If we look at the *native-country* column, we observe its data type is object, meaning it contains string values*\")"
      ]
    },
    {
      "cell_type": "code",
      "source": [
        "#Select features based on their data type\n",
        "print(\"\"\"\n",
        "In the previous notebook, we manually defined the numerical columns. We could do a similar approach. \\n\n",
        " Instead, we will use the scikit-learn helper function make_column_selector, which allows us to select columns based on their data type. \\n\n",
        " We will illustrate how to use this helper. \"\"\")\n",
        "\n",
        "from sklearn.compose import make_column_selector as selector \n",
        "categorical_column_selector = selector(dtype_include=object)\n",
        "categorical_columns = categorical_column_selector(data)\n",
        "print(\" \")\n",
        "print(\"## categorical columns\")\n",
        "categorical_columns\n",
        "\n",
        "print(\" \")\n",
        "print(\"\"\"\n",
        "Here, we created the selector by passing the data type to include; we then passed the input dataset to the selector object, \\n\n",
        "which returned a list of column names that have the requested data type. \"\"\")\n",
        "\n",
        "print(\" \")\n",
        "print(\"We can now filter out the unwanted columns:\")\n",
        "data_categorical = data[categorical_columns]\n",
        "print(data_categorical.head())\n",
        "\n",
        "print(f\"The dataset is composed of {data_categorical.shape[1]} features\")\n",
        "\n",
        "\n"
      ],
      "metadata": {
        "colab": {
          "base_uri": "https://localhost:8080/"
        },
        "id": "REujeEOhQH5Z",
        "outputId": "d847d2cc-f19a-4e6a-eab8-a0dc03c2c455"
      },
      "execution_count": null,
      "outputs": [
        {
          "output_type": "stream",
          "name": "stdout",
          "text": [
            "\n",
            "In the previous notebook, we manually defined the numerical columns. We could do a similar approach. \n",
            "\n",
            " Instead, we will use the scikit-learn helper function make_column_selector, which allows us to select columns based on their data type. \n",
            "\n",
            " We will illustrate how to use this helper. \n",
            " \n",
            "## categorical columns\n",
            " \n",
            "\n",
            "Here, we created the selector by passing the data type to include; we then passed the input dataset to the selector object, \n",
            "\n",
            "which returned a list of column names that have the requested data type. \n",
            " \n",
            "We can now filter out the unwanted columns:\n",
            "    workclass      education       marital-status          occupation  \\\n",
            "0     Private           11th        Never-married   Machine-op-inspct   \n",
            "1     Private        HS-grad   Married-civ-spouse     Farming-fishing   \n",
            "2   Local-gov     Assoc-acdm   Married-civ-spouse     Protective-serv   \n",
            "3     Private   Some-college   Married-civ-spouse   Machine-op-inspct   \n",
            "4           ?   Some-college        Never-married                   ?   \n",
            "\n",
            "  relationship    race      sex  native-country  \n",
            "0    Own-child   Black     Male   United-States  \n",
            "1      Husband   White     Male   United-States  \n",
            "2      Husband   White     Male   United-States  \n",
            "3      Husband   Black     Male   United-States  \n",
            "4    Own-child   White   Female   United-States  \n",
            "The dataset is composed of 8 features\n"
          ]
        }
      ]
    },
    {
      "cell_type": "code",
      "source": [
        "## Strategies to encode categories\n",
        "\n",
        "### Encoding ordinal categories\n",
        "\n",
        "print(\"\"\" The most intuitive strategy is to encode each category with a different \\n\n",
        "number. The `OrdinalEncoder` will transform the data in such manner. \\n\n",
        "We will start by encoding a single column to understand how the encoding works. \"\"\")\n",
        "\n",
        "\n",
        "\n"
      ],
      "metadata": {
        "colab": {
          "base_uri": "https://localhost:8080/"
        },
        "id": "tm86P0H9T5aC",
        "outputId": "8dfe8ee6-8533-4183-d1ea-a78511a175ba"
      },
      "execution_count": null,
      "outputs": [
        {
          "output_type": "stream",
          "name": "stdout",
          "text": [
            " The most intuitive strategy is to encode each category with a different \n",
            "\n",
            "number. The `OrdinalEncoder` will transform the data in such manner. \n",
            "\n",
            "We will start by encoding a single column to understand how the encoding works. \n"
          ]
        }
      ]
    }
  ]
}