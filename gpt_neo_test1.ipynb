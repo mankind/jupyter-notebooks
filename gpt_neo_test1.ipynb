{
  "nbformat": 4,
  "nbformat_minor": 0,
  "metadata": {
    "colab": {
      "provenance": [],
      "authorship_tag": "ABX9TyO80kBRYIhZ0o0bDzRfwp0d",
      "include_colab_link": true
    },
    "kernelspec": {
      "name": "python3",
      "display_name": "Python 3"
    },
    "language_info": {
      "name": "python"
    },
    "widgets": {
      "application/vnd.jupyter.widget-state+json": {
        "e487984b92db429898935a37d43dcf6f": {
          "model_module": "@jupyter-widgets/controls",
          "model_name": "HBoxModel",
          "model_module_version": "1.5.0",
          "state": {
            "_dom_classes": [],
            "_model_module": "@jupyter-widgets/controls",
            "_model_module_version": "1.5.0",
            "_model_name": "HBoxModel",
            "_view_count": null,
            "_view_module": "@jupyter-widgets/controls",
            "_view_module_version": "1.5.0",
            "_view_name": "HBoxView",
            "box_style": "",
            "children": [
              "IPY_MODEL_a42c4e05ffbf469c82fc9a54b1a3f8cd",
              "IPY_MODEL_dce34fb9691a46d8824f24da6855d618",
              "IPY_MODEL_c2e17b7b36734e1f98a899e2848d511e"
            ],
            "layout": "IPY_MODEL_856af0220837443fb0c2fb917cef9857"
          }
        },
        "a42c4e05ffbf469c82fc9a54b1a3f8cd": {
          "model_module": "@jupyter-widgets/controls",
          "model_name": "HTMLModel",
          "model_module_version": "1.5.0",
          "state": {
            "_dom_classes": [],
            "_model_module": "@jupyter-widgets/controls",
            "_model_module_version": "1.5.0",
            "_model_name": "HTMLModel",
            "_view_count": null,
            "_view_module": "@jupyter-widgets/controls",
            "_view_module_version": "1.5.0",
            "_view_name": "HTMLView",
            "description": "",
            "description_tooltip": null,
            "layout": "IPY_MODEL_a65ee90ddc7f486aa18939354c135d4f",
            "placeholder": "​",
            "style": "IPY_MODEL_c0c52b32ab9943f8ac7558c0c0b89d63",
            "value": "Downloading: 100%"
          }
        },
        "dce34fb9691a46d8824f24da6855d618": {
          "model_module": "@jupyter-widgets/controls",
          "model_name": "FloatProgressModel",
          "model_module_version": "1.5.0",
          "state": {
            "_dom_classes": [],
            "_model_module": "@jupyter-widgets/controls",
            "_model_module_version": "1.5.0",
            "_model_name": "FloatProgressModel",
            "_view_count": null,
            "_view_module": "@jupyter-widgets/controls",
            "_view_module_version": "1.5.0",
            "_view_name": "ProgressView",
            "bar_style": "success",
            "description": "",
            "description_tooltip": null,
            "layout": "IPY_MODEL_576937805d894d73ac798f58b2d8de86",
            "max": 1455,
            "min": 0,
            "orientation": "horizontal",
            "style": "IPY_MODEL_ebc9b818dffe439fab96919e708507b0",
            "value": 1455
          }
        },
        "c2e17b7b36734e1f98a899e2848d511e": {
          "model_module": "@jupyter-widgets/controls",
          "model_name": "HTMLModel",
          "model_module_version": "1.5.0",
          "state": {
            "_dom_classes": [],
            "_model_module": "@jupyter-widgets/controls",
            "_model_module_version": "1.5.0",
            "_model_name": "HTMLModel",
            "_view_count": null,
            "_view_module": "@jupyter-widgets/controls",
            "_view_module_version": "1.5.0",
            "_view_name": "HTMLView",
            "description": "",
            "description_tooltip": null,
            "layout": "IPY_MODEL_1533e16877d643a3bd9eaa8c1b17564a",
            "placeholder": "​",
            "style": "IPY_MODEL_b175d21a633a4da3801d655d51a9cd81",
            "value": " 1.46k/1.46k [00:00&lt;00:00, 38.5kB/s]"
          }
        },
        "856af0220837443fb0c2fb917cef9857": {
          "model_module": "@jupyter-widgets/base",
          "model_name": "LayoutModel",
          "model_module_version": "1.2.0",
          "state": {
            "_model_module": "@jupyter-widgets/base",
            "_model_module_version": "1.2.0",
            "_model_name": "LayoutModel",
            "_view_count": null,
            "_view_module": "@jupyter-widgets/base",
            "_view_module_version": "1.2.0",
            "_view_name": "LayoutView",
            "align_content": null,
            "align_items": null,
            "align_self": null,
            "border": null,
            "bottom": null,
            "display": null,
            "flex": null,
            "flex_flow": null,
            "grid_area": null,
            "grid_auto_columns": null,
            "grid_auto_flow": null,
            "grid_auto_rows": null,
            "grid_column": null,
            "grid_gap": null,
            "grid_row": null,
            "grid_template_areas": null,
            "grid_template_columns": null,
            "grid_template_rows": null,
            "height": null,
            "justify_content": null,
            "justify_items": null,
            "left": null,
            "margin": null,
            "max_height": null,
            "max_width": null,
            "min_height": null,
            "min_width": null,
            "object_fit": null,
            "object_position": null,
            "order": null,
            "overflow": null,
            "overflow_x": null,
            "overflow_y": null,
            "padding": null,
            "right": null,
            "top": null,
            "visibility": null,
            "width": null
          }
        },
        "a65ee90ddc7f486aa18939354c135d4f": {
          "model_module": "@jupyter-widgets/base",
          "model_name": "LayoutModel",
          "model_module_version": "1.2.0",
          "state": {
            "_model_module": "@jupyter-widgets/base",
            "_model_module_version": "1.2.0",
            "_model_name": "LayoutModel",
            "_view_count": null,
            "_view_module": "@jupyter-widgets/base",
            "_view_module_version": "1.2.0",
            "_view_name": "LayoutView",
            "align_content": null,
            "align_items": null,
            "align_self": null,
            "border": null,
            "bottom": null,
            "display": null,
            "flex": null,
            "flex_flow": null,
            "grid_area": null,
            "grid_auto_columns": null,
            "grid_auto_flow": null,
            "grid_auto_rows": null,
            "grid_column": null,
            "grid_gap": null,
            "grid_row": null,
            "grid_template_areas": null,
            "grid_template_columns": null,
            "grid_template_rows": null,
            "height": null,
            "justify_content": null,
            "justify_items": null,
            "left": null,
            "margin": null,
            "max_height": null,
            "max_width": null,
            "min_height": null,
            "min_width": null,
            "object_fit": null,
            "object_position": null,
            "order": null,
            "overflow": null,
            "overflow_x": null,
            "overflow_y": null,
            "padding": null,
            "right": null,
            "top": null,
            "visibility": null,
            "width": null
          }
        },
        "c0c52b32ab9943f8ac7558c0c0b89d63": {
          "model_module": "@jupyter-widgets/controls",
          "model_name": "DescriptionStyleModel",
          "model_module_version": "1.5.0",
          "state": {
            "_model_module": "@jupyter-widgets/controls",
            "_model_module_version": "1.5.0",
            "_model_name": "DescriptionStyleModel",
            "_view_count": null,
            "_view_module": "@jupyter-widgets/base",
            "_view_module_version": "1.2.0",
            "_view_name": "StyleView",
            "description_width": ""
          }
        },
        "576937805d894d73ac798f58b2d8de86": {
          "model_module": "@jupyter-widgets/base",
          "model_name": "LayoutModel",
          "model_module_version": "1.2.0",
          "state": {
            "_model_module": "@jupyter-widgets/base",
            "_model_module_version": "1.2.0",
            "_model_name": "LayoutModel",
            "_view_count": null,
            "_view_module": "@jupyter-widgets/base",
            "_view_module_version": "1.2.0",
            "_view_name": "LayoutView",
            "align_content": null,
            "align_items": null,
            "align_self": null,
            "border": null,
            "bottom": null,
            "display": null,
            "flex": null,
            "flex_flow": null,
            "grid_area": null,
            "grid_auto_columns": null,
            "grid_auto_flow": null,
            "grid_auto_rows": null,
            "grid_column": null,
            "grid_gap": null,
            "grid_row": null,
            "grid_template_areas": null,
            "grid_template_columns": null,
            "grid_template_rows": null,
            "height": null,
            "justify_content": null,
            "justify_items": null,
            "left": null,
            "margin": null,
            "max_height": null,
            "max_width": null,
            "min_height": null,
            "min_width": null,
            "object_fit": null,
            "object_position": null,
            "order": null,
            "overflow": null,
            "overflow_x": null,
            "overflow_y": null,
            "padding": null,
            "right": null,
            "top": null,
            "visibility": null,
            "width": null
          }
        },
        "ebc9b818dffe439fab96919e708507b0": {
          "model_module": "@jupyter-widgets/controls",
          "model_name": "ProgressStyleModel",
          "model_module_version": "1.5.0",
          "state": {
            "_model_module": "@jupyter-widgets/controls",
            "_model_module_version": "1.5.0",
            "_model_name": "ProgressStyleModel",
            "_view_count": null,
            "_view_module": "@jupyter-widgets/base",
            "_view_module_version": "1.2.0",
            "_view_name": "StyleView",
            "bar_color": null,
            "description_width": ""
          }
        },
        "1533e16877d643a3bd9eaa8c1b17564a": {
          "model_module": "@jupyter-widgets/base",
          "model_name": "LayoutModel",
          "model_module_version": "1.2.0",
          "state": {
            "_model_module": "@jupyter-widgets/base",
            "_model_module_version": "1.2.0",
            "_model_name": "LayoutModel",
            "_view_count": null,
            "_view_module": "@jupyter-widgets/base",
            "_view_module_version": "1.2.0",
            "_view_name": "LayoutView",
            "align_content": null,
            "align_items": null,
            "align_self": null,
            "border": null,
            "bottom": null,
            "display": null,
            "flex": null,
            "flex_flow": null,
            "grid_area": null,
            "grid_auto_columns": null,
            "grid_auto_flow": null,
            "grid_auto_rows": null,
            "grid_column": null,
            "grid_gap": null,
            "grid_row": null,
            "grid_template_areas": null,
            "grid_template_columns": null,
            "grid_template_rows": null,
            "height": null,
            "justify_content": null,
            "justify_items": null,
            "left": null,
            "margin": null,
            "max_height": null,
            "max_width": null,
            "min_height": null,
            "min_width": null,
            "object_fit": null,
            "object_position": null,
            "order": null,
            "overflow": null,
            "overflow_x": null,
            "overflow_y": null,
            "padding": null,
            "right": null,
            "top": null,
            "visibility": null,
            "width": null
          }
        },
        "b175d21a633a4da3801d655d51a9cd81": {
          "model_module": "@jupyter-widgets/controls",
          "model_name": "DescriptionStyleModel",
          "model_module_version": "1.5.0",
          "state": {
            "_model_module": "@jupyter-widgets/controls",
            "_model_module_version": "1.5.0",
            "_model_name": "DescriptionStyleModel",
            "_view_count": null,
            "_view_module": "@jupyter-widgets/base",
            "_view_module_version": "1.2.0",
            "_view_name": "StyleView",
            "description_width": ""
          }
        },
        "5ce11824fe1e49358c82cc80408dfbab": {
          "model_module": "@jupyter-widgets/controls",
          "model_name": "HBoxModel",
          "model_module_version": "1.5.0",
          "state": {
            "_dom_classes": [],
            "_model_module": "@jupyter-widgets/controls",
            "_model_module_version": "1.5.0",
            "_model_name": "HBoxModel",
            "_view_count": null,
            "_view_module": "@jupyter-widgets/controls",
            "_view_module_version": "1.5.0",
            "_view_name": "HBoxView",
            "box_style": "",
            "children": [
              "IPY_MODEL_0bfc512a2eda4509b007c28846be167d",
              "IPY_MODEL_e9388fe7fe6c4cce8a283e5f9b3234ea",
              "IPY_MODEL_a3b17ee894a74d758d7d2b4e43db4b83"
            ],
            "layout": "IPY_MODEL_88685fe635834c8f81c3b05a3508e96c"
          }
        },
        "0bfc512a2eda4509b007c28846be167d": {
          "model_module": "@jupyter-widgets/controls",
          "model_name": "HTMLModel",
          "model_module_version": "1.5.0",
          "state": {
            "_dom_classes": [],
            "_model_module": "@jupyter-widgets/controls",
            "_model_module_version": "1.5.0",
            "_model_name": "HTMLModel",
            "_view_count": null,
            "_view_module": "@jupyter-widgets/controls",
            "_view_module_version": "1.5.0",
            "_view_name": "HTMLView",
            "description": "",
            "description_tooltip": null,
            "layout": "IPY_MODEL_5eabb252bd354f4196ec1b1f0c0b74bd",
            "placeholder": "​",
            "style": "IPY_MODEL_9786073a19cf49049cd81475153622d8",
            "value": "Downloading:   8%"
          }
        },
        "e9388fe7fe6c4cce8a283e5f9b3234ea": {
          "model_module": "@jupyter-widgets/controls",
          "model_name": "FloatProgressModel",
          "model_module_version": "1.5.0",
          "state": {
            "_dom_classes": [],
            "_model_module": "@jupyter-widgets/controls",
            "_model_module_version": "1.5.0",
            "_model_name": "FloatProgressModel",
            "_view_count": null,
            "_view_module": "@jupyter-widgets/controls",
            "_view_module_version": "1.5.0",
            "_view_name": "ProgressView",
            "bar_style": "",
            "description": "",
            "description_tooltip": null,
            "layout": "IPY_MODEL_4f6a1f298a1140bf9a855486dc7c29f3",
            "max": 10672498931,
            "min": 0,
            "orientation": "horizontal",
            "style": "IPY_MODEL_acbd472af4ea4b4db8105b07073c2b72",
            "value": 872574976
          }
        },
        "a3b17ee894a74d758d7d2b4e43db4b83": {
          "model_module": "@jupyter-widgets/controls",
          "model_name": "HTMLModel",
          "model_module_version": "1.5.0",
          "state": {
            "_dom_classes": [],
            "_model_module": "@jupyter-widgets/controls",
            "_model_module_version": "1.5.0",
            "_model_name": "HTMLModel",
            "_view_count": null,
            "_view_module": "@jupyter-widgets/controls",
            "_view_module_version": "1.5.0",
            "_view_name": "HTMLView",
            "description": "",
            "description_tooltip": null,
            "layout": "IPY_MODEL_8986d0508e40456cb6b7742d90e499c8",
            "placeholder": "​",
            "style": "IPY_MODEL_0ad3710f2bd64e218225878e57144715",
            "value": " 873M/10.7G [00:29&lt;12:03, 13.5MB/s]"
          }
        },
        "88685fe635834c8f81c3b05a3508e96c": {
          "model_module": "@jupyter-widgets/base",
          "model_name": "LayoutModel",
          "model_module_version": "1.2.0",
          "state": {
            "_model_module": "@jupyter-widgets/base",
            "_model_module_version": "1.2.0",
            "_model_name": "LayoutModel",
            "_view_count": null,
            "_view_module": "@jupyter-widgets/base",
            "_view_module_version": "1.2.0",
            "_view_name": "LayoutView",
            "align_content": null,
            "align_items": null,
            "align_self": null,
            "border": null,
            "bottom": null,
            "display": null,
            "flex": null,
            "flex_flow": null,
            "grid_area": null,
            "grid_auto_columns": null,
            "grid_auto_flow": null,
            "grid_auto_rows": null,
            "grid_column": null,
            "grid_gap": null,
            "grid_row": null,
            "grid_template_areas": null,
            "grid_template_columns": null,
            "grid_template_rows": null,
            "height": null,
            "justify_content": null,
            "justify_items": null,
            "left": null,
            "margin": null,
            "max_height": null,
            "max_width": null,
            "min_height": null,
            "min_width": null,
            "object_fit": null,
            "object_position": null,
            "order": null,
            "overflow": null,
            "overflow_x": null,
            "overflow_y": null,
            "padding": null,
            "right": null,
            "top": null,
            "visibility": null,
            "width": null
          }
        },
        "5eabb252bd354f4196ec1b1f0c0b74bd": {
          "model_module": "@jupyter-widgets/base",
          "model_name": "LayoutModel",
          "model_module_version": "1.2.0",
          "state": {
            "_model_module": "@jupyter-widgets/base",
            "_model_module_version": "1.2.0",
            "_model_name": "LayoutModel",
            "_view_count": null,
            "_view_module": "@jupyter-widgets/base",
            "_view_module_version": "1.2.0",
            "_view_name": "LayoutView",
            "align_content": null,
            "align_items": null,
            "align_self": null,
            "border": null,
            "bottom": null,
            "display": null,
            "flex": null,
            "flex_flow": null,
            "grid_area": null,
            "grid_auto_columns": null,
            "grid_auto_flow": null,
            "grid_auto_rows": null,
            "grid_column": null,
            "grid_gap": null,
            "grid_row": null,
            "grid_template_areas": null,
            "grid_template_columns": null,
            "grid_template_rows": null,
            "height": null,
            "justify_content": null,
            "justify_items": null,
            "left": null,
            "margin": null,
            "max_height": null,
            "max_width": null,
            "min_height": null,
            "min_width": null,
            "object_fit": null,
            "object_position": null,
            "order": null,
            "overflow": null,
            "overflow_x": null,
            "overflow_y": null,
            "padding": null,
            "right": null,
            "top": null,
            "visibility": null,
            "width": null
          }
        },
        "9786073a19cf49049cd81475153622d8": {
          "model_module": "@jupyter-widgets/controls",
          "model_name": "DescriptionStyleModel",
          "model_module_version": "1.5.0",
          "state": {
            "_model_module": "@jupyter-widgets/controls",
            "_model_module_version": "1.5.0",
            "_model_name": "DescriptionStyleModel",
            "_view_count": null,
            "_view_module": "@jupyter-widgets/base",
            "_view_module_version": "1.2.0",
            "_view_name": "StyleView",
            "description_width": ""
          }
        },
        "4f6a1f298a1140bf9a855486dc7c29f3": {
          "model_module": "@jupyter-widgets/base",
          "model_name": "LayoutModel",
          "model_module_version": "1.2.0",
          "state": {
            "_model_module": "@jupyter-widgets/base",
            "_model_module_version": "1.2.0",
            "_model_name": "LayoutModel",
            "_view_count": null,
            "_view_module": "@jupyter-widgets/base",
            "_view_module_version": "1.2.0",
            "_view_name": "LayoutView",
            "align_content": null,
            "align_items": null,
            "align_self": null,
            "border": null,
            "bottom": null,
            "display": null,
            "flex": null,
            "flex_flow": null,
            "grid_area": null,
            "grid_auto_columns": null,
            "grid_auto_flow": null,
            "grid_auto_rows": null,
            "grid_column": null,
            "grid_gap": null,
            "grid_row": null,
            "grid_template_areas": null,
            "grid_template_columns": null,
            "grid_template_rows": null,
            "height": null,
            "justify_content": null,
            "justify_items": null,
            "left": null,
            "margin": null,
            "max_height": null,
            "max_width": null,
            "min_height": null,
            "min_width": null,
            "object_fit": null,
            "object_position": null,
            "order": null,
            "overflow": null,
            "overflow_x": null,
            "overflow_y": null,
            "padding": null,
            "right": null,
            "top": null,
            "visibility": null,
            "width": null
          }
        },
        "acbd472af4ea4b4db8105b07073c2b72": {
          "model_module": "@jupyter-widgets/controls",
          "model_name": "ProgressStyleModel",
          "model_module_version": "1.5.0",
          "state": {
            "_model_module": "@jupyter-widgets/controls",
            "_model_module_version": "1.5.0",
            "_model_name": "ProgressStyleModel",
            "_view_count": null,
            "_view_module": "@jupyter-widgets/base",
            "_view_module_version": "1.2.0",
            "_view_name": "StyleView",
            "bar_color": null,
            "description_width": ""
          }
        },
        "8986d0508e40456cb6b7742d90e499c8": {
          "model_module": "@jupyter-widgets/base",
          "model_name": "LayoutModel",
          "model_module_version": "1.2.0",
          "state": {
            "_model_module": "@jupyter-widgets/base",
            "_model_module_version": "1.2.0",
            "_model_name": "LayoutModel",
            "_view_count": null,
            "_view_module": "@jupyter-widgets/base",
            "_view_module_version": "1.2.0",
            "_view_name": "LayoutView",
            "align_content": null,
            "align_items": null,
            "align_self": null,
            "border": null,
            "bottom": null,
            "display": null,
            "flex": null,
            "flex_flow": null,
            "grid_area": null,
            "grid_auto_columns": null,
            "grid_auto_flow": null,
            "grid_auto_rows": null,
            "grid_column": null,
            "grid_gap": null,
            "grid_row": null,
            "grid_template_areas": null,
            "grid_template_columns": null,
            "grid_template_rows": null,
            "height": null,
            "justify_content": null,
            "justify_items": null,
            "left": null,
            "margin": null,
            "max_height": null,
            "max_width": null,
            "min_height": null,
            "min_width": null,
            "object_fit": null,
            "object_position": null,
            "order": null,
            "overflow": null,
            "overflow_x": null,
            "overflow_y": null,
            "padding": null,
            "right": null,
            "top": null,
            "visibility": null,
            "width": null
          }
        },
        "0ad3710f2bd64e218225878e57144715": {
          "model_module": "@jupyter-widgets/controls",
          "model_name": "DescriptionStyleModel",
          "model_module_version": "1.5.0",
          "state": {
            "_model_module": "@jupyter-widgets/controls",
            "_model_module_version": "1.5.0",
            "_model_name": "DescriptionStyleModel",
            "_view_count": null,
            "_view_module": "@jupyter-widgets/base",
            "_view_module_version": "1.2.0",
            "_view_name": "StyleView",
            "description_width": ""
          }
        }
      }
    },
    "accelerator": "GPU",
    "gpuClass": "standard"
  },
  "cells": [
    {
      "cell_type": "markdown",
      "metadata": {
        "id": "view-in-github",
        "colab_type": "text"
      },
      "source": [
        "<a href=\"https://colab.research.google.com/github/mankind/jupyter-notebooks/blob/master/gpt_neo_test1.ipynb\" target=\"_parent\"><img src=\"https://colab.research.google.com/assets/colab-badge.svg\" alt=\"Open In Colab\"/></a>"
      ]
    },
    {
      "cell_type": "code",
      "execution_count": null,
      "metadata": {
        "colab": {
          "base_uri": "https://localhost:8080/"
        },
        "id": "CeSoXjp_wwty",
        "outputId": "c720b65c-34f5-44b9-e048-1d8ea3acfb99"
      },
      "outputs": [
        {
          "output_type": "stream",
          "name": "stdout",
          "text": [
            "Looking in indexes: https://pypi.org/simple, https://us-python.pkg.dev/colab-wheels/public/simple/, https://download.pytorch.org/whl/cu116\n",
            "Requirement already satisfied: torch in /usr/local/lib/python3.7/dist-packages (1.12.1+cu113)\n",
            "Requirement already satisfied: torchvision in /usr/local/lib/python3.7/dist-packages (0.13.1+cu113)\n",
            "Requirement already satisfied: torchaudio in /usr/local/lib/python3.7/dist-packages (0.12.1+cu113)\n",
            "Requirement already satisfied: typing-extensions in /usr/local/lib/python3.7/dist-packages (from torch) (4.1.1)\n",
            "Requirement already satisfied: requests in /usr/local/lib/python3.7/dist-packages (from torchvision) (2.23.0)\n",
            "Requirement already satisfied: numpy in /usr/local/lib/python3.7/dist-packages (from torchvision) (1.21.6)\n",
            "Requirement already satisfied: pillow!=8.3.*,>=5.3.0 in /usr/local/lib/python3.7/dist-packages (from torchvision) (7.1.2)\n",
            "Requirement already satisfied: urllib3!=1.25.0,!=1.25.1,<1.26,>=1.21.1 in /usr/local/lib/python3.7/dist-packages (from requests->torchvision) (1.24.3)\n",
            "Requirement already satisfied: chardet<4,>=3.0.2 in /usr/local/lib/python3.7/dist-packages (from requests->torchvision) (3.0.4)\n",
            "Requirement already satisfied: certifi>=2017.4.17 in /usr/local/lib/python3.7/dist-packages (from requests->torchvision) (2022.9.24)\n",
            "Requirement already satisfied: idna<3,>=2.5 in /usr/local/lib/python3.7/dist-packages (from requests->torchvision) (2.10)\n"
          ]
        }
      ],
      "source": [
        "!pip3 install torch torchvision torchaudio --extra-index-url https://download.pytorch.org/whl/cu116\n",
        "\n"
      ]
    },
    {
      "cell_type": "code",
      "source": [
        "!pip3 install transformers"
      ],
      "metadata": {
        "colab": {
          "base_uri": "https://localhost:8080/"
        },
        "id": "AbJZO-5vK3tc",
        "outputId": "4e4dd161-55c7-4a34-9a17-ec5d3abd3588"
      },
      "execution_count": null,
      "outputs": [
        {
          "output_type": "stream",
          "name": "stdout",
          "text": [
            "Looking in indexes: https://pypi.org/simple, https://us-python.pkg.dev/colab-wheels/public/simple/\n",
            "Collecting transformers\n",
            "  Downloading transformers-4.23.1-py3-none-any.whl (5.3 MB)\n",
            "\u001b[K     |████████████████████████████████| 5.3 MB 31.1 MB/s \n",
            "\u001b[?25hCollecting huggingface-hub<1.0,>=0.10.0\n",
            "  Downloading huggingface_hub-0.10.1-py3-none-any.whl (163 kB)\n",
            "\u001b[K     |████████████████████████████████| 163 kB 67.7 MB/s \n",
            "\u001b[?25hRequirement already satisfied: numpy>=1.17 in /usr/local/lib/python3.7/dist-packages (from transformers) (1.21.6)\n",
            "Requirement already satisfied: importlib-metadata in /usr/local/lib/python3.7/dist-packages (from transformers) (4.13.0)\n",
            "Requirement already satisfied: packaging>=20.0 in /usr/local/lib/python3.7/dist-packages (from transformers) (21.3)\n",
            "Requirement already satisfied: pyyaml>=5.1 in /usr/local/lib/python3.7/dist-packages (from transformers) (6.0)\n",
            "Requirement already satisfied: tqdm>=4.27 in /usr/local/lib/python3.7/dist-packages (from transformers) (4.64.1)\n",
            "Requirement already satisfied: requests in /usr/local/lib/python3.7/dist-packages (from transformers) (2.23.0)\n",
            "Collecting tokenizers!=0.11.3,<0.14,>=0.11.1\n",
            "  Downloading tokenizers-0.13.1-cp37-cp37m-manylinux_2_17_x86_64.manylinux2014_x86_64.whl (7.6 MB)\n",
            "\u001b[K     |████████████████████████████████| 7.6 MB 61.7 MB/s \n",
            "\u001b[?25hRequirement already satisfied: filelock in /usr/local/lib/python3.7/dist-packages (from transformers) (3.8.0)\n",
            "Requirement already satisfied: regex!=2019.12.17 in /usr/local/lib/python3.7/dist-packages (from transformers) (2022.6.2)\n",
            "Requirement already satisfied: typing-extensions>=3.7.4.3 in /usr/local/lib/python3.7/dist-packages (from huggingface-hub<1.0,>=0.10.0->transformers) (4.1.1)\n",
            "Requirement already satisfied: pyparsing!=3.0.5,>=2.0.2 in /usr/local/lib/python3.7/dist-packages (from packaging>=20.0->transformers) (3.0.9)\n",
            "Requirement already satisfied: zipp>=0.5 in /usr/local/lib/python3.7/dist-packages (from importlib-metadata->transformers) (3.9.0)\n",
            "Requirement already satisfied: certifi>=2017.4.17 in /usr/local/lib/python3.7/dist-packages (from requests->transformers) (2022.9.24)\n",
            "Requirement already satisfied: chardet<4,>=3.0.2 in /usr/local/lib/python3.7/dist-packages (from requests->transformers) (3.0.4)\n",
            "Requirement already satisfied: idna<3,>=2.5 in /usr/local/lib/python3.7/dist-packages (from requests->transformers) (2.10)\n",
            "Requirement already satisfied: urllib3!=1.25.0,!=1.25.1,<1.26,>=1.21.1 in /usr/local/lib/python3.7/dist-packages (from requests->transformers) (1.24.3)\n",
            "Installing collected packages: tokenizers, huggingface-hub, transformers\n",
            "Successfully installed huggingface-hub-0.10.1 tokenizers-0.13.1 transformers-4.23.1\n"
          ]
        }
      ]
    },
    {
      "cell_type": "code",
      "source": [
        "from transformers import pipeline  #first line of code "
      ],
      "metadata": {
        "id": "0sZbTn-gLqQo"
      },
      "execution_count": null,
      "outputs": []
    },
    {
      "cell_type": "code",
      "source": [
        "#setup generator\n",
        "# generator = pipeline(\"text-generation\", model=\"EleutherAI/gpt-neo-1.3B\")\n",
        "\n",
        "generator = pipeline(\"text-generation\", model=\"EleutherAI/gpt-neo-2.7B\")"
      ],
      "metadata": {
        "colab": {
          "base_uri": "https://localhost:8080/",
          "height": 81,
          "referenced_widgets": [
            "e487984b92db429898935a37d43dcf6f",
            "a42c4e05ffbf469c82fc9a54b1a3f8cd",
            "dce34fb9691a46d8824f24da6855d618",
            "c2e17b7b36734e1f98a899e2848d511e",
            "856af0220837443fb0c2fb917cef9857",
            "a65ee90ddc7f486aa18939354c135d4f",
            "c0c52b32ab9943f8ac7558c0c0b89d63",
            "576937805d894d73ac798f58b2d8de86",
            "ebc9b818dffe439fab96919e708507b0",
            "1533e16877d643a3bd9eaa8c1b17564a",
            "b175d21a633a4da3801d655d51a9cd81",
            "5ce11824fe1e49358c82cc80408dfbab",
            "0bfc512a2eda4509b007c28846be167d",
            "e9388fe7fe6c4cce8a283e5f9b3234ea",
            "a3b17ee894a74d758d7d2b4e43db4b83",
            "88685fe635834c8f81c3b05a3508e96c",
            "5eabb252bd354f4196ec1b1f0c0b74bd",
            "9786073a19cf49049cd81475153622d8",
            "4f6a1f298a1140bf9a855486dc7c29f3",
            "acbd472af4ea4b4db8105b07073c2b72",
            "8986d0508e40456cb6b7742d90e499c8",
            "0ad3710f2bd64e218225878e57144715"
          ]
        },
        "id": "8CD9h7FhMFEK",
        "outputId": "f07f46dd-6b93-4d54-8678-d53f8ff1abe1"
      },
      "execution_count": null,
      "outputs": [
        {
          "output_type": "display_data",
          "data": {
            "text/plain": [
              "Downloading:   0%|          | 0.00/1.46k [00:00<?, ?B/s]"
            ],
            "application/vnd.jupyter.widget-view+json": {
              "version_major": 2,
              "version_minor": 0,
              "model_id": "e487984b92db429898935a37d43dcf6f"
            }
          },
          "metadata": {}
        },
        {
          "output_type": "display_data",
          "data": {
            "text/plain": [
              "Downloading:   0%|          | 0.00/10.7G [00:00<?, ?B/s]"
            ],
            "application/vnd.jupyter.widget-view+json": {
              "version_major": 2,
              "version_minor": 0,
              "model_id": "5ce11824fe1e49358c82cc80408dfbab"
            }
          },
          "metadata": {}
        }
      ]
    },
    {
      "cell_type": "code",
      "source": [
        "prompt = \"To solve world hunger, we must invest in\"  # 3rd line of code"
      ],
      "metadata": {
        "id": "L57dYVLbRxZV"
      },
      "execution_count": null,
      "outputs": []
    },
    {
      "cell_type": "code",
      "source": [
        "# do_sample says using sampling and temperature determines how it uses tokens going forward\n",
        "result = generator(prompt, max_length=55, do_sample=True, temperature=0.9)  # 4th line of code"
      ],
      "metadata": {
        "colab": {
          "base_uri": "https://localhost:8080/"
        },
        "id": "XbZifUlsSC_C",
        "outputId": "f87ed97f-4a42-4088-bcff-00b3012b29fc"
      },
      "execution_count": null,
      "outputs": [
        {
          "output_type": "stream",
          "name": "stderr",
          "text": [
            "Setting `pad_token_id` to `eos_token_id`:50256 for open-end generation.\n"
          ]
        }
      ]
    },
    {
      "cell_type": "code",
      "source": [
        "print(result[0][\"generated_text\"])\n"
      ],
      "metadata": {
        "colab": {
          "base_uri": "https://localhost:8080/"
        },
        "id": "ibP45kIPTqKp",
        "outputId": "3bc2ddce-5f27-411c-adfe-92f3bda7088d"
      },
      "execution_count": null,
      "outputs": [
        {
          "output_type": "stream",
          "name": "stdout",
          "text": [
            "To solve world hunger, we must invest in a sustainable agricultural sector and end agricultural aid to the most vulnerable.\n",
            "\n",
            "World hunger has grown rapidly since the beginning of the 20th century and this has accelerated the destruction of vast amounts of land and freshwater. Land is a scarce\n"
          ]
        }
      ]
    },
    {
      "cell_type": "code",
      "source": [
        "prompt2 = \"import pandas as pd\" "
      ],
      "metadata": {
        "id": "Bv0TEqWBWg_z"
      },
      "execution_count": null,
      "outputs": []
    },
    {
      "cell_type": "code",
      "source": [
        "result2 = generator(prompt2, max_length=50, do_sample=True, temperature=0.9)"
      ],
      "metadata": {
        "colab": {
          "base_uri": "https://localhost:8080/"
        },
        "id": "MY2MID8DWogq",
        "outputId": "a7489dff-2bd1-4628-ad27-ce218fdd146e"
      },
      "execution_count": null,
      "outputs": [
        {
          "output_type": "stream",
          "name": "stderr",
          "text": [
            "Setting `pad_token_id` to `eos_token_id`:50256 for open-end generation.\n"
          ]
        }
      ]
    },
    {
      "cell_type": "code",
      "source": [
        "print(result2[0][\"generated_text\"])"
      ],
      "metadata": {
        "colab": {
          "base_uri": "https://localhost:8080/"
        },
        "id": "skHmMn1VW6S_",
        "outputId": "3cc194db-997d-48b4-fb1a-f9a6406c7345"
      },
      "execution_count": null,
      "outputs": [
        {
          "output_type": "stream",
          "name": "stdout",
          "text": [
            "import pandas as pd\n",
            "import numpy as np\n",
            "import itertools\n",
            "import cv2\n",
            "from pandas import DataFrame\n",
            "from pandas.core.parsers import OrderedDict\n",
            "from pandas.core\n"
          ]
        }
      ]
    },
    {
      "cell_type": "code",
      "source": [
        "prompt3 = \"Write an essay about how we can structure online education around apprenticeship models and communities of practice\""
      ],
      "metadata": {
        "id": "UmIXeQU6Xqxb"
      },
      "execution_count": null,
      "outputs": []
    },
    {
      "cell_type": "code",
      "source": [
        "result3 = generator(prompt3, max_length=1250, do_sample=True, temperature=0.7)"
      ],
      "metadata": {
        "colab": {
          "base_uri": "https://localhost:8080/"
        },
        "id": "xI385K0jXxMl",
        "outputId": "f37b5205-f634-4801-f301-a1f9e432076f"
      },
      "execution_count": null,
      "outputs": [
        {
          "output_type": "stream",
          "name": "stderr",
          "text": [
            "Setting `pad_token_id` to `eos_token_id`:50256 for open-end generation.\n"
          ]
        }
      ]
    },
    {
      "cell_type": "code",
      "source": [
        "print(result3[0][\"generated_text\"])"
      ],
      "metadata": {
        "colab": {
          "base_uri": "https://localhost:8080/"
        },
        "id": "ahVBO-cAX1WA",
        "outputId": "7d45a5b9-5e7c-47fe-eeec-9eb8cf2b4665"
      },
      "execution_count": null,
      "outputs": [
        {
          "output_type": "stream",
          "name": "stdout",
          "text": [
            "Write an essay about how we can structure online education around apprenticeship models and communities of practice, and how this will improve the quality of the learning experience.\n",
            "\n",
            "Introduction\n",
            "\n",
            "Online education is becoming a mainstay of higher education. As schools and universities become more flexible and embrace online education, we must ensure that students have the opportunity to access quality education that is relevant to their needs and interests. This essay will discuss how we can structure online education around apprenticeship models and communities of practice, and how this will improve the quality of the learning experience.\n",
            "\n",
            "As an example, I will use the example of a new online course I am currently developing for my masters degree as a basis for the discussion. I currently have an online course developed, but have not yet finalized it. I have used a few ideas from other online learning courses to structure the course, and I have written a syllabus for it. I have also started to develop a community around the course. I have started with a course-wide community and have now decided to add the possibility of a community of practice, to make the course more personalised and relevant to the needs of my students. I am keen to develop a community of practice around the course, but understand that there will be students from all over Australia who will not be able to attend the course as part of their degree. Therefore, I am considering ways to structure the course so that it is suitable for students from throughout Australia, but I am also considering ways to support students from other countries (for example, students from China).\n",
            "\n",
            "The course will be structured around two distinct models, namely online apprenticeship and community of practice. These two models are complementary and will allow for students to develop their own learning experiences, and provide them with the opportunity to learn from others to increase their understanding of the subject matter.\n",
            "\n",
            "Online Apprenticeship\n",
            "\n",
            "To help students develop their skills, I have developed a course that is similar to an apprenticeship course. I have a course-wide community of practice, and students are able to develop their skills and knowledge through working with other students, and helping them to achieve their own learning goals. Students will also be able to develop their skills through working within the course, and will be able to learn from other students and other members of their community. Students will work with other students to develop their own learning outcomes, and will be able to learn from each other to increase their understanding of the subject matter.\n",
            "\n",
            "Community of Practice\n",
            "\n",
            "To help students develop their skills, I have developed a course that is similar to a community of practice. I have a course-wide community of practice, and students are able to develop their skills and knowledge through working with other students, and helping them to achieve their own learning goals. Students will also be able to develop their skills through working within the course, and will be able to learn from other students and other members of their community. Students will work with other students to develop their own learning outcomes, and will be able to learn from each other to increase their understanding of the subject matter.\n",
            "\n",
            "My course will have two models, online apprenticeship and community of practice. The course will be structured around both models, and students will be able to develop their own learning experiences, and will be able to learn from each other to increase their understanding of the subject matter.\n",
            "\n",
            "What is an apprenticeship?\n",
            "\n",
            "Apprenticeship is a learning experience that allows students to gain the knowledge and experience that they need to succeed. An apprenticeship is a programme of study that allows students to learn from their peers and to develop their skills, and develop their knowledge and understanding of a field. An apprenticeship is an opportunity for students to learn from a community of other students that they will be able to support and learn from.\n",
            "\n",
            "Aims and Principles of Apprenticeship\n",
            "\n",
            "The aims and principles of an apprenticeship are:\n",
            "\n",
            "to provide students with the opportunity to develop their own skills and knowledge as well as learning from their peers;\n",
            "\n",
            "to allow students to develop their knowledge and understanding of a field; and\n",
            "\n",
            "to develop their skills and knowledge as well as gain the confidence and experience to be able to enter the workplace.\n",
            "\n",
            "The apprenticeship model is a programme of study that allows students to learn from peers, and to develop their skills and knowledge as well as gain the confidence and experience to be able to enter the workplace.\n",
            "\n",
            "An apprenticeship is a programme of study that allows students to learn from peers, and to develop their skills and knowledge as well as gain the confidence and experience to be able to enter the workplace.\n",
            "\n",
            "Learning outcomes for an apprenticeship are:\n",
            "\n",
            "the development of technical and professional skills, knowledge and understanding of a field; and\n",
            "\n",
            "the development of technical and professional skills, knowledge and understanding of a field.\n",
            "\n",
            "Learning outcomes for an apprenticeship are:\n",
            "\n",
            "the development of technical and professional skills, knowledge and understanding of a field; and\n",
            "\n",
            "the development of technical and professional skills, knowledge and understanding of a field.\n",
            "\n",
            "Online Apprenticeship\n",
            "\n",
            "An online apprenticeship is a learning experience that allows students to develop their skills and knowledge as well as gain the confidence and experience to work online. An online apprenticeship is a programme of study that allows students to learn from peers, and to develop their skills and knowledge as well as gain the confidence and experience to work online.\n",
            "\n",
            "Learning outcomes for an online apprenticeship are:\n",
            "\n",
            "the development of technical and professional skills, knowledge and understanding of a field; and\n",
            "\n",
            "the development of technical and professional skills, knowledge and understanding of a field.\n",
            "\n",
            "Learning outcomes for an online apprenticeship are:\n",
            "\n",
            "the development of technical and professional skills, knowledge and understanding of a field; and\n",
            "\n",
            "the development of technical and professional skills, knowledge and understanding of a field.\n",
            "\n",
            "Online apprenticeship is a learning experience that allows students to develop their skills and knowledge as well as gain the confidence and experience to work online. An online apprenticeship is a programme of study that allows students to learn from peers, and to develop their skills and knowledge as well\n"
          ]
        }
      ]
    },
    {
      "cell_type": "code",
      "source": [
        "prompt4 = \"write  debate between leonardo da vinci and elon musk. leonardo belives that analogy are an important way to understand the world. Elon believes I think it is important to reason by first principles instead of analogy\""
      ],
      "metadata": {
        "id": "hqNWfo5s0Zcx"
      },
      "execution_count": null,
      "outputs": []
    },
    {
      "cell_type": "code",
      "source": [
        "result4 = generator(prompt4, max_length=1250, do_sample=True, temperature=0.9)"
      ],
      "metadata": {
        "colab": {
          "base_uri": "https://localhost:8080/"
        },
        "id": "gOteiObw0iYm",
        "outputId": "d6724daf-f4f0-4616-f957-f07cbbf3a29e"
      },
      "execution_count": null,
      "outputs": [
        {
          "output_type": "stream",
          "name": "stderr",
          "text": [
            "Setting `pad_token_id` to `eos_token_id`:50256 for open-end generation.\n"
          ]
        }
      ]
    },
    {
      "cell_type": "code",
      "source": [
        "print(result4[0][\"generated_text\"])"
      ],
      "metadata": {
        "colab": {
          "base_uri": "https://localhost:8080/"
        },
        "id": "-4NAX6se0qM4",
        "outputId": "5060d444-d15c-4f91-be37-d944946712bb"
      },
      "execution_count": null,
      "outputs": [
        {
          "output_type": "stream",
          "name": "stdout",
          "text": [
            "write  debate between leonardo da vinci and elon musk. leonardo belives that analogy are an important way to understand the world. Elon believes I think it is important to reason by first principles instead of analogy and reasoning by analogy. I agree with Elon about the need to first reason the question. I think leonardo's view comes from the same line of thought, but I disagree with his generalizations.\n",
            "There are different ways you can reason by analogy.\n",
            "One way leonardo argues is that it is important to think by analogy. He argues that we should think like a hawk - like a cat in a trap. For example, if you have a bad idea, don't just try to reason it out, but instead go to the hawk to catch it. He explains that this will help ensure that we do not get stuck with the wrong ideas.\n",
            "Leo's other argument is that it is important to reason by first principles instead of analogy. He argues that we should reason by principles instead of analogies. An analogy is an analogy. Now leonardo is right about the need to understand principles, but he is wrong about the need to understand analogy.\n",
            "Analogy is an analogy between two models, where one model is a concrete and real world model and the other is an abstraction model. In this case a hawk and a cat are concrete models. For example, the hawk and the cat are both in a cage. However, their abstract model is in the same room, in a cage.\n",
            "First principles are abstract and concrete. This is a difference between being first principles and being first principles. First principles are abstract and first principles are concrete. While first principles are abstract, they are first principles in the sense that they are principles that can help us reach our goal. First principles are also more concrete than first principles. There are also a lot of other reasons that first principles are more concrete than first principles.\n",
            "\n",
            "A:\n",
            "\n",
            "You seem to be conflating abstraction and analogy.  Analogy to a particular instance is different than an abstraction for a set of abstract principles.  For example:\n",
            "\n",
            "Suppose I want to make a decision between two choices. One is a rule I can use to determine which is the better choice. The other is a rule that's applied to the real world.\n",
            "I want to figure out which is best by first principles.\n",
            "Given two choices, we can derive a third choice using rule one, or a fourth if we've already decided on the second and third. \n",
            "First principles are abstract and the rules we use to make decisions about things like what to do with the fish in a tank are also abstract.  But the fact they make these decisions at all is the fact that they are first principles.\n",
            "\n",
            "All of these things being said, it may be helpful to think about analogy as in the example above as the use of a particular instance of abstraction.  It's not the use of the abstraction.  It's the use of abstraction in a particular way.\n",
            "But in that case the analogy is not between what the rules are and what the real world is, but between what the rules are and what the abstract principles are.  And that analogy will not be a true one.  (There's a whole chapter in the introduction to the Logic text of a mathematical logic text called \"Analogy and First Principles\" that goes into the difference between similarity and analogy.)\n",
            "In fact, the actual distinction between first principles and analogy is rather irrelevant in real-world situations.  The most common example of this is the difference between applying laws to the real world, and applying these laws to some specific things in the real world. \n",
            "I know a case from real life where a man decided to go to the store and buy a specific bottle of wine.  The store had this specific type of bottle, and the law gave it to him.  After trying three other wines, he decided he wanted the specific type of bottle.  The laws didn't give him this specific type of bottle--in fact, in this specific case, the laws didn't even apply to his choice.\n",
            "In the case above, the law says it's okay for him to buy the specific bottle of wine.  You can say that this is a first principle, and that's true.  That's why it's true.\n",
            "And then the second law says \"you can't get away with this if you have the specific type of bottle\".  In this specific case, the law doesn't really apply at all.  In general, as long as a law doesn't apply at all, it's a first principle.\n",
            "Likewise, the rules about what to do with a fish tank are rules about fish.  I could apply those rules to the real world, and then apply these to a particular fish.  And because it's a first principle, the rule is applied in the real world.  (In this specific case, it's not applied to a specific fish--in general, the rule applies to all fish.)\n",
            "So first principles and laws are different ways of saying the same thing.  They are like two different ways of saying the same thing.  They're like two different ways of doing the same thing.  Even if the laws were the same, and these rules were the same, it wouldn't make it true that they were a first principle.  They're different ways of doing different things.\n",
            "And again, the difference between laws and first principles is rather irrelevant in real-world situations, which are based on our actions.  In the real world, the laws and first principles are both important, but they are not necessarily the same.  Laws are true, but only for a narrow set of situations.  First principles are true for all situations.  And this is because the truth of a first principle is not based on how the situation is or how the situation is going to be.\n",
            "\n",
            "A:\n",
            "\n",
            "It's not that analogy are a bad way to think about the world.  \n",
            "An analogy is an analogy, where\n"
          ]
        }
      ]
    },
    {
      "cell_type": "code",
      "source": [
        "prompt5 =  \"write two different description for the following product; product name: wayo ; product description: workflow automation to remove mudane tasks\""
      ],
      "metadata": {
        "id": "fJA_AqES7Bqv"
      },
      "execution_count": null,
      "outputs": []
    },
    {
      "cell_type": "code",
      "source": [
        "result5 = generator(prompt5, max_length=400, do_sample=True, temperature=0.8, top_p=1, top_k=100, repetition_penalty=1)"
      ],
      "metadata": {
        "id": "PlwF0CrKYyNQ",
        "colab": {
          "base_uri": "https://localhost:8080/"
        },
        "outputId": "e9d2b6bc-4c72-4821-9fd7-2ec6637d8e66"
      },
      "execution_count": null,
      "outputs": [
        {
          "output_type": "stream",
          "name": "stderr",
          "text": [
            "Setting `pad_token_id` to `eos_token_id`:50256 for open-end generation.\n"
          ]
        }
      ]
    },
    {
      "cell_type": "code",
      "source": [
        "print(result5[0][\"generated_text\"])"
      ],
      "metadata": {
        "id": "Z5MiW_MoD5MQ",
        "colab": {
          "base_uri": "https://localhost:8080/"
        },
        "outputId": "6eaf0142-da39-46f0-b3b4-7676830ade93"
      },
      "execution_count": null,
      "outputs": [
        {
          "output_type": "stream",
          "name": "stdout",
          "text": [
            "write two different description for the following product; product name: wayo ; product description: workflow automation to remove mudane tasks in order to reduce time and workload of the overall project\n",
            "\n",
            "I have been using this project for more than a year and i've been using \n",
            "\n",
            "\"My_Project_name_with_path/product_name_with_path.json\"\n",
            "\"com.github.Josmue.EduWare_Product_Name_with_path.json\"\n",
            "\"com.github.Josmue.EduWare_Product.json\"\n",
            "\"com.github.Josmue.EduWare_Product_Description_with_path.json\"\n",
            "\n",
            "to store the same data.\n",
            "\n",
            "A:\n",
            "\n",
            "You need to set the \"repository\" property of your \"Product\" class accordingly.\n",
            "E.g.\n",
            "@GetMapping(\"/\")\n",
            "public Iterable<Product> getProductList() {\n",
            "    return productList;\n",
            "}\n",
            "\n",
            "\n"
          ]
        }
      ]
    },
    {
      "cell_type": "code",
      "source": [
        "prompt6 = \"Fetch three employees from the Employee table\" "
      ],
      "metadata": {
        "id": "LN19-pmlil3E"
      },
      "execution_count": null,
      "outputs": []
    },
    {
      "cell_type": "code",
      "source": [
        "result6 = generator(prompt6, max_length=100, do_sample=True, temperature=0.8, top_p=1, top_k=100, repetition_penalty=1)"
      ],
      "metadata": {
        "colab": {
          "base_uri": "https://localhost:8080/"
        },
        "id": "tBzeNNTJil97",
        "outputId": "5fa65581-4c87-4af8-b905-346d6b56d736"
      },
      "execution_count": null,
      "outputs": [
        {
          "output_type": "stream",
          "name": "stderr",
          "text": [
            "Setting `pad_token_id` to `eos_token_id`:50256 for open-end generation.\n"
          ]
        }
      ]
    },
    {
      "cell_type": "code",
      "source": [
        "print(result6[0][\"generated_text\"])"
      ],
      "metadata": {
        "colab": {
          "base_uri": "https://localhost:8080/"
        },
        "id": "BgvIQgyOjJ_8",
        "outputId": "50c46f4a-705e-4e68-a1b2-549e496f3151"
      },
      "execution_count": null,
      "outputs": [
        {
          "output_type": "stream",
          "name": "stdout",
          "text": [
            "Fetch three employees from the Employee table with\n",
            "the following columns:\n",
            "\n",
            "1. Name:\n",
            "2. Full Name:\n",
            "3. Employee ID:\n",
            "4. Phone:\n",
            "5. Company:\n",
            "\n",
            "The employee table will have the following columns:\n",
            "\n",
            "1. Employee ID:\n",
            "2. First Name:\n",
            "3. Last Name:\n",
            "4. Title:\n",
            "5. Company:\n",
            "\n",
            "You may use stored procedure or trigger to perform this action.\n",
            "\n",
            "Then use\n"
          ]
        }
      ]
    },
    {
      "cell_type": "code",
      "source": [
        "#with open(\"gpt-text.txt\", \"w\") as f:\n",
        "  #f.writelines(result[0][\"generated_text\"])"
      ],
      "metadata": {
        "id": "wqBjqF84YVzV"
      },
      "execution_count": null,
      "outputs": []
    }
  ]
}